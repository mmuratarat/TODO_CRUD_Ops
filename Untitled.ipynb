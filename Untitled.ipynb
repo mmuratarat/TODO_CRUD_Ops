{
 "cells": [
  {
   "cell_type": "code",
   "execution_count": 61,
   "id": "53f32f0a-cfce-4ed1-8f77-9923742976ec",
   "metadata": {},
   "outputs": [],
   "source": [
    "import sqlite3\n",
    "\n",
    "db_file = \"myDatabase_TODO.db\"\n",
    "connection = sqlite3.connect(db_file)\n",
    "cursor = connection.cursor()\n",
    "\n",
    "def create_table():\n",
    "    cursor.execute('DROP TABLE IF EXISTS TODO_TABLE;')\n",
    "    cursor.execute('CREATE TABLE IF NOT EXISTS TODO_TABLE(task_ TEXT NOT NULL UNIQUE, status_ NOT NULL, date_ DATE NOT NULL, PRIMARY KEY (task_))')\n",
    "    \n",
    "def insert_data(task_, status_, date_):\n",
    "    cursor.execute('INSERT INTO TODO_TABLE(task_, status_, date_) VALUES (?, ?, ?)', (task_, status_, date_))\n",
    "    connection.commit()\n",
    "    \n",
    "def show_data():\n",
    "    cursor.execute('SELECT * FROM TODO_TABLE')\n",
    "    records = cursor.fetchall()\n",
    "    return records\n",
    "\n",
    "def retrieve_task(task_):\n",
    "    cursor.execute('SELECT * FROM TODO_TABLE WHERE task_ = \"{}\"'.format(task_))\n",
    "    records = cursor.fetchall()\n",
    "    return records\n",
    "\n",
    "def delete_data(task_):\n",
    "    cursor.execute('DELETE FROM TODO_TABLE WHERE task=\"{}\"'.format(task_))\n",
    "    connection.commit()\n",
    "    \n",
    "def view_tasks():\n",
    "    cursor.execute('SELECT DISTINCT task_ FROM TODO_TABLE')\n",
    "    records = cursor.fetchall()\n",
    "    return records\n",
    "\n",
    "def update_task(new_task_, new_status_, new_date_, task_, status_, date_):\n",
    "    cursor.execute('UPDATE TODO_TABLE SET task_ = ?, status_ = ?, date_ = ?  WHERE task_ = ?, status_ = ?, date_ = ?', \n",
    "                   (new_task_, new_status_, new_date_, task_, status_, date_))\n",
    "    connection.commit()\n",
    "    records = cursor.fetchall()\n",
    "    return records"
   ]
  },
  {
   "cell_type": "code",
   "execution_count": 62,
   "id": "7c6691c4-71a6-43c6-8e77-c4b1c5399318",
   "metadata": {},
   "outputs": [],
   "source": [
    "create_table()"
   ]
  },
  {
   "cell_type": "code",
   "execution_count": 63,
   "id": "94624e9d-28c8-4551-ac0e-2a7c248fa379",
   "metadata": {},
   "outputs": [],
   "source": [
    "insert_data(task_ = 'murat', status_ = 'done', date_ = '2022-08-31')"
   ]
  },
  {
   "cell_type": "code",
   "execution_count": 64,
   "id": "6b8a6c2f-0cbf-4c59-b749-accb97ed4050",
   "metadata": {},
   "outputs": [],
   "source": [
    "insert_data(task_ = 'murat2', status_ = 'ongoing', date_ = '2022-08-26')"
   ]
  },
  {
   "cell_type": "code",
   "execution_count": 49,
   "id": "80b59a66-758f-4c11-908f-117b94906826",
   "metadata": {},
   "outputs": [],
   "source": [
    "selected_task = 'murat'\n",
    "task_result = retrieve_task(selected_task)"
   ]
  },
  {
   "cell_type": "code",
   "execution_count": 50,
   "id": "df97620d-a6ee-4231-850e-27f289ecb8a6",
   "metadata": {},
   "outputs": [],
   "source": [
    "task_name, task_status, task_to_date = retrieve_task(selected_task)[0]"
   ]
  },
  {
   "cell_type": "code",
   "execution_count": 51,
   "id": "c497ee11-086d-401c-a933-7d275a36e97c",
   "metadata": {},
   "outputs": [
    {
     "data": {
      "text/plain": [
       "'2022-08-31'"
      ]
     },
     "execution_count": 51,
     "metadata": {},
     "output_type": "execute_result"
    }
   ],
   "source": [
    " task_to_date"
   ]
  },
  {
   "cell_type": "code",
   "execution_count": 52,
   "id": "9208620b-e204-4d9d-b562-6c8a14182eb8",
   "metadata": {},
   "outputs": [],
   "source": [
    "date_val = [int(x) for x in task_to_date.split('-')]"
   ]
  },
  {
   "cell_type": "code",
   "execution_count": 53,
   "id": "a0c3ea77-5d9a-4f33-9c97-ac312c6900c4",
   "metadata": {},
   "outputs": [],
   "source": [
    "from datetime import date"
   ]
  },
  {
   "cell_type": "code",
   "execution_count": 54,
   "id": "3755a737-9360-474d-a159-b5ba1464fbe2",
   "metadata": {},
   "outputs": [
    {
     "data": {
      "text/plain": [
       "datetime.date(2022, 8, 31)"
      ]
     },
     "execution_count": 54,
     "metadata": {},
     "output_type": "execute_result"
    }
   ],
   "source": [
    " date(date_val[0], date_val[1], date_val[2])"
   ]
  },
  {
   "cell_type": "code",
   "execution_count": 55,
   "id": "6245da64-aa17-496e-a01a-538806df5aed",
   "metadata": {},
   "outputs": [
    {
     "data": {
      "text/plain": [
       "'done'"
      ]
     },
     "execution_count": 55,
     "metadata": {},
     "output_type": "execute_result"
    }
   ],
   "source": [
    "task_status"
   ]
  },
  {
   "cell_type": "code",
   "execution_count": 57,
   "id": "3049ed75-442c-437e-99c2-17b5c87bc1a4",
   "metadata": {},
   "outputs": [
    {
     "ename": "ValueError",
     "evalue": "'done' is not in list",
     "output_type": "error",
     "traceback": [
      "\u001b[0;31m---------------------------------------------------------------------------\u001b[0m",
      "\u001b[0;31mValueError\u001b[0m                                Traceback (most recent call last)",
      "Input \u001b[0;32mIn [57]\u001b[0m, in \u001b[0;36m<cell line: 2>\u001b[0;34m()\u001b[0m\n\u001b[1;32m      1\u001b[0m task_list \u001b[38;5;241m=\u001b[39m  [\u001b[38;5;124m\"\u001b[39m\u001b[38;5;124mYapılacak\u001b[39m\u001b[38;5;124m\"\u001b[39m, \u001b[38;5;124m\"\u001b[39m\u001b[38;5;124mDevam Ediyor\u001b[39m\u001b[38;5;124m\"\u001b[39m, \u001b[38;5;124m\"\u001b[39m\u001b[38;5;124mTamamlandı\u001b[39m\u001b[38;5;124m\"\u001b[39m]\n\u001b[0;32m----> 2\u001b[0m \u001b[43mtask_list\u001b[49m\u001b[38;5;241;43m.\u001b[39;49m\u001b[43mindex\u001b[49m\u001b[43m(\u001b[49m\u001b[43mtask_status\u001b[49m\u001b[43m)\u001b[49m\n",
      "\u001b[0;31mValueError\u001b[0m: 'done' is not in list"
     ]
    }
   ],
   "source": [
    "task_list =  [\"Yapılacak\", \"Devam Ediyor\", \"Tamamlandı\"]\n",
    "task_list.index(task_status)"
   ]
  },
  {
   "cell_type": "code",
   "execution_count": 73,
   "id": "1d417313-3c35-443b-8228-51eb001f9110",
   "metadata": {},
   "outputs": [],
   "source": [
    "list_of_tasks = [i[0] for i in view_tasks()]\n",
    "list_of_tasks.append('Bütün görevleri sil')"
   ]
  },
  {
   "cell_type": "code",
   "execution_count": 74,
   "id": "d3552411-6454-4bb1-8434-dae400e8f5e8",
   "metadata": {},
   "outputs": [
    {
     "data": {
      "text/plain": [
       "['murat', 'murat2', 'Bütün görevleri sil']"
      ]
     },
     "execution_count": 74,
     "metadata": {},
     "output_type": "execute_result"
    }
   ],
   "source": [
    " list_of_tasks "
   ]
  },
  {
   "cell_type": "code",
   "execution_count": 75,
   "id": "32815863-e537-4d16-b1de-9cf3287e568e",
   "metadata": {},
   "outputs": [],
   "source": [
    "import streamlit as st"
   ]
  },
  {
   "cell_type": "code",
   "execution_count": 76,
   "id": "94111bb7-3e2c-45e0-bd44-3fc76a9ca0c2",
   "metadata": {},
   "outputs": [],
   "source": [
    "selected_task = st.selectbox(\"Görev\", list_of_tasks)"
   ]
  },
  {
   "cell_type": "code",
   "execution_count": 77,
   "id": "1fb0de9d-d316-4b4b-b90e-de3b8646a89b",
   "metadata": {},
   "outputs": [
    {
     "data": {
      "text/plain": [
       "'murat'"
      ]
     },
     "execution_count": 77,
     "metadata": {},
     "output_type": "execute_result"
    }
   ],
   "source": [
    "selected_task"
   ]
  },
  {
   "cell_type": "code",
   "execution_count": 78,
   "id": "6bf108e8-550a-48cd-ade1-09a532f75b47",
   "metadata": {},
   "outputs": [],
   "source": [
    "PROJECTS = {\n",
    "    \"Secured Supreme Success Award from Faculty of Science of Hacettepe University for the semester 2009–2010\",\n",
    "    \"Recipient of Scholarship/Assistantship from Department of Business Analytics & Statistics of Tennessee, Knoxville for my doctoral studies between the years 2015 – 2020.\",\n",
    "    \"Earned Statistics Excellence Fund from Department of Business Analytics & Statistics of Tennessee, Knoxville for the Fall semester of 2015.\"\n",
    "}"
   ]
  },
  {
   "cell_type": "code",
   "execution_count": 79,
   "id": "372abacb-2931-45ef-b816-33cf7a5f0d85",
   "metadata": {},
   "outputs": [
    {
     "ename": "AttributeError",
     "evalue": "'set' object has no attribute 'items'",
     "output_type": "error",
     "traceback": [
      "\u001b[0;31m---------------------------------------------------------------------------\u001b[0m",
      "\u001b[0;31mAttributeError\u001b[0m                            Traceback (most recent call last)",
      "Input \u001b[0;32mIn [79]\u001b[0m, in \u001b[0;36m<cell line: 1>\u001b[0;34m()\u001b[0m\n\u001b[0;32m----> 1\u001b[0m \u001b[43mPROJECTS\u001b[49m\u001b[38;5;241;43m.\u001b[39;49m\u001b[43mitems\u001b[49m()\n",
      "\u001b[0;31mAttributeError\u001b[0m: 'set' object has no attribute 'items'"
     ]
    }
   ],
   "source": [
    "PROJECTS.items()"
   ]
  },
  {
   "cell_type": "code",
   "execution_count": null,
   "id": "730608da-de8f-43c2-b38f-fae0bf68e2bd",
   "metadata": {},
   "outputs": [],
   "source": []
  }
 ],
 "metadata": {
  "kernelspec": {
   "display_name": "CRUDOps",
   "language": "python",
   "name": "crudops"
  },
  "language_info": {
   "codemirror_mode": {
    "name": "ipython",
    "version": 3
   },
   "file_extension": ".py",
   "mimetype": "text/x-python",
   "name": "python",
   "nbconvert_exporter": "python",
   "pygments_lexer": "ipython3",
   "version": "3.8.12"
  }
 },
 "nbformat": 4,
 "nbformat_minor": 5
}
